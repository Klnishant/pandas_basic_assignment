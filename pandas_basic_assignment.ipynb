{
 "cells": [
  {
   "cell_type": "markdown",
   "id": "89bb350a-5ccb-499f-b187-2793c1d5296a",
   "metadata": {},
   "source": [
    "Q1. Create a Pandas Series that contains the following data: 4, 8, 15, 16, 23, and 42. Then, print the series."
   ]
  },
  {
   "cell_type": "code",
   "execution_count": 2,
   "id": "ae23efa8-f208-46cd-b062-c074dc29d5ad",
   "metadata": {},
   "outputs": [
    {
     "name": "stdout",
     "output_type": "stream",
     "text": [
      "0     4\n",
      "1     8\n",
      "2    15\n",
      "3    16\n",
      "4    23\n",
      "5    42\n",
      "dtype: int64\n"
     ]
    }
   ],
   "source": [
    "import pandas as pd\n",
    "my_series = pd.Series([4, 8, 15, 16, 23,42])\n",
    "print(my_series)"
   ]
  },
  {
   "cell_type": "markdown",
   "id": "90c75ed7-bade-4ecb-aec1-9bd8b491f8c3",
   "metadata": {},
   "source": [
    "Q2. Create a variable of list type containing 10 elements in it, and apply pandas.Series function on the\n",
    "variable print it."
   ]
  },
  {
   "cell_type": "code",
   "execution_count": 1,
   "id": "6ff77893-f466-41fb-86a9-dd0b02d87eb5",
   "metadata": {},
   "outputs": [
    {
     "name": "stdout",
     "output_type": "stream",
     "text": [
      "0     1\n",
      "1     2\n",
      "2     3\n",
      "3     4\n",
      "4     5\n",
      "5     6\n",
      "6     7\n",
      "7     8\n",
      "8     9\n",
      "9    10\n",
      "dtype: int64\n"
     ]
    }
   ],
   "source": [
    "import pandas as pd\n",
    "my_list = [1,2,3,4,5,6,7,8,9,10]\n",
    "my_series = pd.Series(my_list)\n",
    "print(my_series)"
   ]
  },
  {
   "cell_type": "markdown",
   "id": "fa381cae-921b-4148-99dd-1853f95dce18",
   "metadata": {},
   "source": [
    "Q3. Create a Pandas DataFrame that contains the following data:\n",
    "Name\n",
    "Alice\n",
    "Bob\n",
    "Claire\n",
    "\n",
    "Age\n",
    "25\n",
    "30\n",
    "27\n",
    "\n",
    "Gender\n",
    "Female\n",
    "Male\n",
    "Female\n",
    "Then, print the DataFrame."
   ]
  },
  {
   "cell_type": "code",
   "execution_count": 2,
   "id": "9d7142f0-a20f-4d7b-87f9-ed244f207c54",
   "metadata": {},
   "outputs": [
    {
     "name": "stdout",
     "output_type": "stream",
     "text": [
      "     Name  Age  Gender\n",
      "0   Alice   25  Female\n",
      "1     Bob   30    Male\n",
      "2  Claire   27  Female\n"
     ]
    }
   ],
   "source": [
    "import pandas as pd\n",
    "my_data = {\"Name\":[\"Alice\",\"Bob\",\"Claire\"],\"Age\":[25,30,27],\"Gender\":[\"Female\",\"Male\",\"Female\"]}\n",
    "df = pd.DataFrame(my_data)\n",
    "print(df)"
   ]
  },
  {
   "cell_type": "markdown",
   "id": "98a622aa-effd-4bad-affd-e14b27951b0b",
   "metadata": {},
   "source": [
    "Q4. What is ‘DataFrame’ in pandas and how is it different from pandas.series? Explain with an example."
   ]
  },
  {
   "cell_type": "markdown",
   "id": "de7d5953-7d45-436a-91c9-81e8bb629b05",
   "metadata": {},
   "source": [
    "Ans--> In pandas, a DataFrame is a two-dimensional table-like data structure, similar to a spreadsheet or a SQL table. It consists of rows and columns, where each column can have a different data type (such as numbers, strings, or dates), and can be thought of as a collection of pandas Series objects.\n",
    "\n",
    "A Series, on the other hand, is a one-dimensional array-like data structure in pandas that can hold a single data type, such as integers, floats, or strings. It can be thought of as a single column of a DataFrame.\n",
    "\n",
    "Here's an example to illustrate the difference between a DataFrame and a Series:\n"
   ]
  },
  {
   "cell_type": "code",
   "execution_count": 4,
   "id": "f639d890-a1b6-41a1-a460-0415d8daac0d",
   "metadata": {},
   "outputs": [
    {
     "name": "stdout",
     "output_type": "stream",
     "text": [
      "      name  age  salary\n",
      "0    Alice   25   50000\n",
      "1      Bob   30   60000\n",
      "2  Charlie   35   70000\n",
      "3    David   40   80000\n"
     ]
    }
   ],
   "source": [
    "import pandas as pd\n",
    "\n",
    "# create a dictionary with data\n",
    "data = {'name': ['Alice', 'Bob', 'Charlie', 'David'],\n",
    "        'age': [25, 30, 35, 40],\n",
    "        'salary': [50000, 60000, 70000, 80000]}\n",
    "\n",
    "# create a DataFrame from the dictionary\n",
    "df = pd.DataFrame(data)\n",
    "\n",
    "# create a Series from a single column of the DataFrame\n",
    "ages = df['age']\n",
    "\n",
    "# print the DataFrame\n",
    "print(df)\n"
   ]
  },
  {
   "cell_type": "code",
   "execution_count": 5,
   "id": "7d48186f-8042-4886-bacf-cae6bcb61186",
   "metadata": {},
   "outputs": [
    {
     "name": "stdout",
     "output_type": "stream",
     "text": [
      "0    25\n",
      "1    30\n",
      "2    35\n",
      "3    40\n",
      "Name: age, dtype: int64\n"
     ]
    }
   ],
   "source": [
    "# print the Series\n",
    "print(ages)"
   ]
  },
  {
   "cell_type": "markdown",
   "id": "fa293280-5500-42b2-abeb-05cdda67156e",
   "metadata": {},
   "source": [
    "Q5. What are some common functions you can use to manipulate data in a Pandas DataFrame? Can\n",
    "you give an example of when you might use one of these functions?"
   ]
  },
  {
   "cell_type": "markdown",
   "id": "f77e1c4c-026c-4270-9c0f-f2fcd15a60ca",
   "metadata": {},
   "source": [
    "Ans--> Pandas provides a wide range of functions to manipulate data in a DataFrame. Here are some common functions that can be used to manipulate data in a Pandas DataFrame:\n",
    "\n",
    "1.head() and tail(): These functions are used to view the top and bottom rows of the DataFrame, respectively. For example, df.head(10) would show the first 10 rows of the DataFrame df.\n",
    "\n",
    "2.describe(): This function provides a statistical summary of the DataFrame, including the count, mean, standard deviation, minimum, maximum, and quartiles of each numeric column. For example, df.describe() would provide a summary of the DataFrame df.\n",
    "\n",
    "3.drop(): This function is used to drop rows or columns from the DataFrame. For example, df.drop('column_name', axis=1) would drop the column specified by 'column_name' from the DataFrame df.\n",
    "\n",
    "4.groupby(): This function is used to group the data in the DataFrame based on one or more columns, and apply an aggregate function to each group. For example, df.groupby('column_name').sum() would group the DataFrame df by the values in 'column_name' and return the sum of each group.\n",
    "\n",
    "5.merge(): This function is used to combine two or more DataFrames based on a common column. For example, if we have two DataFrames df1 and df2 with a common column 'id', we can merge them using pd.merge(df1, df2, on='id').\n",
    "\n",
    "6.apply(): This function is used to apply a function to each element or row of the DataFrame. For example, df.apply(lambda x: x**2) would apply the function lambda x: x**2 to each element of the DataFrame df.\n",
    "\n",
    "7.sort_values(): This function is used to sort the DataFrame based on one or more columns. For example, df.sort_values('column_name') would sort the DataFrame df based on the values in 'column_name'.\n",
    "\n",
    "f8.illna(): This function is used to fill missing values in the DataFrame with a specified value or method. For example, df.fillna(0) would fill all missing values in the DataFrame df with 0.\n",
    "\n",
    "One example of when you might use one of these functions is if you have a DataFrame with missing values and you want to fill those values with a specific value or method. In this case, you could use the fillna() function to fill the missing values with a specified value, such as the mean or median of the column. For example, df.fillna(df.mean()) would fill all missing values in the DataFrame df with the mean of each column."
   ]
  },
  {
   "cell_type": "markdown",
   "id": "d068af68-052e-473f-9ada-8f2a8024b84e",
   "metadata": {},
   "source": [
    "Q6. Which of the following is mutable in nature Series, DataFrame, Panel?"
   ]
  },
  {
   "cell_type": "markdown",
   "id": "331046f5-3612-42a6-9d56-3b987db72848",
   "metadata": {},
   "source": [
    "Ans--> The Series and DataFrame objects are mutable in nature, while the Panel object is not mutable.\n",
    "\n",
    "In a Pandas Series, the values can be changed, added or deleted after the creation of the Series object. Similarly, in a Pandas DataFrame, the values in cells, rows or columns can be changed, added or deleted.\n",
    "\n",
    "However, the Panel object is deprecated in the current version of Pandas and replaced by the MultiIndex DataFrame, which is mutable."
   ]
  },
  {
   "cell_type": "markdown",
   "id": "e158203c-5a94-462d-804f-c9e8e2af1f92",
   "metadata": {},
   "source": [
    "Q7. Create a DataFrame using multiple Series. Explain with an example."
   ]
  },
  {
   "cell_type": "code",
   "execution_count": 6,
   "id": "b0e847d1-3470-4a01-aeb5-3ce2d03c80a2",
   "metadata": {},
   "outputs": [
    {
     "name": "stdout",
     "output_type": "stream",
     "text": [
      "      Name  Age      City\n",
      "0    Alice   25  New York\n",
      "1      Bob   30    London\n",
      "2  Charlie   35     Paris\n",
      "3    David   40    Berlin\n",
      "4      Eva   45     Tokyo\n"
     ]
    }
   ],
   "source": [
    "import pandas as pd\n",
    "\n",
    "# create three series\n",
    "names = pd.Series(['Alice', 'Bob', 'Charlie', 'David', 'Eva'])\n",
    "ages = pd.Series([25, 30, 35, 40, 45])\n",
    "cities = pd.Series(['New York', 'London', 'Paris', 'Berlin', 'Tokyo'])\n",
    "\n",
    "# create dataframe using series\n",
    "my_df = pd.DataFrame({'Name': names, 'Age': ages, 'City': cities})\n",
    "\n",
    "# print dataframe\n",
    "print(my_df)"
   ]
  },
  {
   "cell_type": "markdown",
   "id": "22537bdb-ee53-4706-8b92-6f0479031599",
   "metadata": {},
   "source": [
    "In this example, we created three Pandas Series for the columns \"Name\", \"Age\", and \"City\". We then combined these Series into a Pandas DataFrame using the pd.DataFrame() function. Finally, we printed the resulting DataFrame.\n",
    "\n",
    "Each Series is aligned by their index, and they are combined horizontally to create a DataFrame where each row corresponds to an index position in the Series. This allows us to combine different types of data, such as strings, integers, and floats, into a single table for analysis.\n"
   ]
  },
  {
   "cell_type": "code",
   "execution_count": null,
   "id": "40926559-f7f5-43a1-bbb5-afd3867eb4de",
   "metadata": {},
   "outputs": [],
   "source": []
  }
 ],
 "metadata": {
  "kernelspec": {
   "display_name": "Python 3 (ipykernel)",
   "language": "python",
   "name": "python3"
  },
  "language_info": {
   "codemirror_mode": {
    "name": "ipython",
    "version": 3
   },
   "file_extension": ".py",
   "mimetype": "text/x-python",
   "name": "python",
   "nbconvert_exporter": "python",
   "pygments_lexer": "ipython3",
   "version": "3.10.8"
  }
 },
 "nbformat": 4,
 "nbformat_minor": 5
}
